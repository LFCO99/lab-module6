{
 "cells": [
  {
   "cell_type": "markdown",
   "id": "f88ad40b",
   "metadata": {},
   "source": [
    "# Data Science Tools and Ecosystem"
   ]
  },
  {
   "cell_type": "markdown",
   "id": "826c83ac",
   "metadata": {},
   "source": [
    "In this notebook, Data Science Tools and Ecosystem are summarized."
   ]
  },
  {
   "cell_type": "markdown",
   "id": "dd5412ab",
   "metadata": {},
   "source": [
    "**Objectives:**\n",
    "+ List popular languages for Data Science\n",
    "+ List most commonly used libraries used by Data Scientists\n",
    "+ List some of the Data Science tools."
   ]
  },
  {
   "cell_type": "markdown",
   "id": "5ecc3ecb",
   "metadata": {},
   "source": [
    "Some of the popular languages that Data Scientists use are:\n",
    "1. Python\n",
    "2. R\n",
    "3. SQL\n",
    "4. Julia\n",
    "5. Java"
   ]
  },
  {
   "cell_type": "markdown",
   "id": "50a04336",
   "metadata": {},
   "source": [
    "Some of the commonly used libraries used by Data Scientists include:\n",
    "1. Pandas\n",
    "2. NumPy\n",
    "3. Matplotlib\n",
    "4. Seaborn\n",
    "5. Scikit-learn\n",
    "6. TensorFlow\n",
    "7. PyTorch\n",
    "8. Keras\n",
    "9. SciPy\n",
    "10. Statsmodels\n",
    "11. Plotly"
   ]
  },
  {
   "cell_type": "markdown",
   "id": "b086a25f",
   "metadata": {},
   "source": [
    "| Data Science Tools|\n",
    "|-------------------|\n",
    "| Apache Spark      |\n",
    "| Apache Hadoop     |\n",
    "| IBM Watson Studio |"
   ]
  },
  {
   "cell_type": "markdown",
   "id": "3cbc9046",
   "metadata": {},
   "source": [
    "### Below are a few examples of evaluating arithmetic expressions in Python."
   ]
  },
  {
   "cell_type": "code",
   "execution_count": 22,
   "id": "b593a18d",
   "metadata": {},
   "outputs": [
    {
     "data": {
      "text/plain": [
       "17"
      ]
     },
     "execution_count": 22,
     "metadata": {},
     "output_type": "execute_result"
    }
   ],
   "source": [
    "# This is a simple arithmetic expression to multiply then add integers.\n",
    "(3*4)+5"
   ]
  },
  {
   "cell_type": "code",
   "execution_count": 23,
   "id": "8ad5544f",
   "metadata": {},
   "outputs": [
    {
     "data": {
      "text/plain": [
       "3.3333333333333335"
      ]
     },
     "execution_count": 23,
     "metadata": {},
     "output_type": "execute_result"
    }
   ],
   "source": [
    "# This will convert 200 minutes to hours by dividing by 60\n",
    "200 / 60"
   ]
  },
  {
   "cell_type": "markdown",
   "id": "09086873",
   "metadata": {},
   "source": [
    "## Author\n",
    "Luis Fernando Carrasco Orihuela"
   ]
  }
 ],
 "metadata": {
  "kernelspec": {
   "display_name": "Python 3",
   "language": "python",
   "name": "python3"
  },
  "language_info": {
   "codemirror_mode": {
    "name": "ipython",
    "version": 3
   },
   "file_extension": ".py",
   "mimetype": "text/x-python",
   "name": "python",
   "nbconvert_exporter": "python",
   "pygments_lexer": "ipython3",
   "version": "3.13.2"
  }
 },
 "nbformat": 4,
 "nbformat_minor": 5
}
